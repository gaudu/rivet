{
 "cells": [
  {
   "cell_type": "markdown",
   "id": "da9d1958",
   "metadata": {},
   "source": [
    "## Initialization"
   ]
  },
  {
   "cell_type": "code",
   "execution_count": 1,
   "id": "cf5eecb1",
   "metadata": {},
   "outputs": [],
   "source": [
    "from math import *\n",
    "from numpy import *\n",
    "import matplotlib.pyplot as plt\n",
    "import matplotlib.ticker\n",
    "import pandas as pd"
   ]
  },
  {
   "cell_type": "code",
   "execution_count": 2,
   "id": "9ca944d1",
   "metadata": {},
   "outputs": [],
   "source": [
    "# panda display options\n",
    "pd.set_option(\"display.max_rows\", 200)\n",
    "pd.set_option(\"display.max_columns\", 11)\n",
    "pd.set_option('display.float_format', '{:.6e}'.format)"
   ]
  },
  {
   "cell_type": "markdown",
   "id": "0e4c86e5",
   "metadata": {},
   "source": [
    "## Test with .csv\n",
    "\n",
    "https://pandas.pydata.org/docs/reference/api/pandas.read_csv.html"
   ]
  },
  {
   "cell_type": "code",
   "execution_count": 3,
   "id": "9a5907f6",
   "metadata": {
    "scrolled": true
   },
   "outputs": [],
   "source": [
    "c=1\n",
    "# files to run\n",
    "files=['pi+frompi++Cinteractions','pi-frompi++Cinteractions', 'K+frompi++Cinteractions', 'K-frompi++Cinteractions', 'protonsfrompi++Cinteractions', 'K0Sfrompi++Cinteractions', 'Lambdafrompi++Cinteractions', 'Anti-Lambdafrompi++Cinteractions']\n",
    "\n",
    "# tables header\n",
    "header=['momentum [GeV/c]','momentum [GeV/c] LOW','momentum [GeV/c] HIGH','theta [rad.]','theta [rad.] LOW','theta [rad.] HIGH','multiplicity [1/(rad. GeV/c)]','sys. unc. +','sys. unc. -','stat. unc. +','stat. unc. -']\n",
    "\n",
    "# extract the tables from individual .csv files\n",
    "# skipping the first 5 lines (not tables yet)\n",
    "# using knowledge from line 5 of the .csv file as a header for the columns names\n",
    "dfc = pd.read_csv('NA61SHINE_2019_I1754136_csv/'+files[c-1]+'.csv', skiprows=5, names=header)\n",
    "#display(dfc)"
   ]
  },
  {
   "cell_type": "code",
   "execution_count": 4,
   "id": "63ae04c1",
   "metadata": {
    "scrolled": true
   },
   "outputs": [],
   "source": [
    "# sort the dataframe by theta ranges, then ascending in momentum\n",
    "dfc = dfc.sort_values(by = ['theta [rad.]', 'momentum [GeV/c]'])\n",
    "#display(dfc)\n",
    "# re-index the dataframe\n",
    "dfc = dfc.reset_index(drop=True)\n",
    "#display(dfc)"
   ]
  },
  {
   "cell_type": "code",
   "execution_count": 5,
   "id": "01d796c8",
   "metadata": {
    "scrolled": false
   },
   "outputs": [
    {
     "name": "stdout",
     "output_type": "stream",
     "text": [
      "d08-x01-y01\n",
      "0 : {stat: {dn: -0.00049462 , up: 0.00049462 }, sys: {dn: -0.0018671 , up: 0.0010668 }},\n",
      "1 : {stat: {dn: -0.00058103 , up: 0.00058103 }, sys: {dn: -0.0012667 , up: 0.0018959 }},\n",
      "d08-x01-y02\n",
      "0 : {stat: {dn: -0.00097101 , up: 0.00097101 }, sys: {dn: -0.0048786 , up: 0.0019781 }},\n",
      "1 : {stat: {dn: -0.00066162 , up: 0.00066162 }, sys: {dn: -0.0016773 , up: 0.0027041 }},\n",
      "d08-x01-y03\n",
      "0 : {stat: {dn: -0.0011155 , up: 0.0011155 }, sys: {dn: -0.0046867 , up: 0.0022093 }},\n",
      "1 : {stat: {dn: -0.0006925 , up: 0.0006925 }, sys: {dn: -0.0014193 , up: 0.0012498 }},\n",
      "d08-x01-y04\n",
      "0 : {stat: {dn: -0.0010093 , up: 0.0010093 }, sys: {dn: -0.0056639 , up: 0.0019265 }},\n",
      "1 : {stat: {dn: -0.00053733 , up: 0.00053733 }, sys: {dn: -0.0014669 , up: 0.0010853 }},\n",
      "d08-x01-y05\n",
      "0 : {stat: {dn: -0.00046003 , up: 0.00046003 }, sys: {dn: -0.0016841 , up: 0.00079251 }},\n",
      "d08-x01-y06\n",
      "0 : {stat: {dn: -0.0005655 , up: 0.0005655 }, sys: {dn: -0.0015635 , up: 0.00099742 }},\n",
      "d08-x01-y07\n",
      "0 : {stat: {dn: -0.00037003 , up: 0.00037003 }, sys: {dn: -0.0012024 , up: 0.00062644 }},\n"
     ]
    }
   ],
   "source": [
    "# print the ErrorBreakdown separated for each theta ranges\n",
    "a=2\n",
    "d=0\n",
    "print('d0%i-x01-y01'%c)\n",
    "# going through all the rows of the table\n",
    "for i in dfc.index:\n",
    "    # if we change theta range\n",
    "    print(d,': {stat: {dn:', dfc.loc[i, 'stat. unc. -'], ', up:', dfc.loc[i, 'stat. unc. +'],\n",
    "          '}, sys: {dn:', dfc.loc[i, 'sys. unc. -'], ', up:', dfc.loc[i, 'sys. unc. +'], '}},')\n",
    "    d=d+1\n",
    "    if (i < len(dfc.index)-1):\n",
    "        if (dfc.loc[i, 'theta [rad.]'] != dfc.loc[i+1, 'theta [rad.]']):\n",
    "        # keeps track of subtables\n",
    "            print('d0%i-x01-y0%i'%(c,a))\n",
    "            a=a+1\n",
    "            d=0"
   ]
  },
  {
   "cell_type": "code",
   "execution_count": 6,
   "id": "6ef90870",
   "metadata": {},
   "outputs": [],
   "source": [
    "dfct = dfc[['momentum [GeV/c]','momentum [GeV/c] LOW','momentum [GeV/c] HIGH','multiplicity [1/(rad. GeV/c)]']].copy()"
   ]
  },
  {
   "cell_type": "markdown",
   "id": "53e08477",
   "metadata": {},
   "source": [
    "Calculate the total error bars by merging together statistic and systematic errors for both upper and lower contributions. following: $$\\Delta_{\\text{tot}} = \\sqrt{{\\Delta_{\\text{stat}}}^2 + {\\Delta_{\\text{sys}}}^2}$$"
   ]
  },
  {
   "cell_type": "code",
   "execution_count": 7,
   "id": "86abed50",
   "metadata": {
    "scrolled": true
   },
   "outputs": [],
   "source": [
    "dfct.loc[:,'yerrm'] = sqrt((dfc['stat. unc. -'])**2 + (dfc['sys. unc. -'])**2)\n",
    "dfct.loc[:,'yerrp'] = sqrt((dfc['stat. unc. +'])**2 + (dfc['sys. unc. +'])**2)"
   ]
  },
  {
   "cell_type": "markdown",
   "id": "38960beb",
   "metadata": {},
   "source": [
    "https://pandas.pydata.org/docs/reference/api/pandas.DataFrame.to_string.html"
   ]
  },
  {
   "cell_type": "code",
   "execution_count": 8,
   "id": "ef50c37b",
   "metadata": {
    "scrolled": true
   },
   "outputs": [],
   "source": [
    "dfct = dfct.set_axis(['xval', 'xerrm', 'xerrp', 'yval', 'yerr-', 'yerr+'], axis=1)\n",
    "#dfct = dfct.to_string(index=False)"
   ]
  },
  {
   "cell_type": "code",
   "execution_count": 9,
   "id": "dab46c1a",
   "metadata": {},
   "outputs": [],
   "source": [
    "dfct.loc[:,'xerr-'] = dfct['xval'] - dfct['xerrm']\n",
    "dfct.loc[:,'xerr+'] = dfct['xerrp'] - dfct['xval']\n",
    "dfct = dfct.drop(['xerrm', 'xerrp'], axis=1)\n",
    "dfct = dfct[['xval', 'xerr-', 'xerr+', 'yval', 'yerr-', 'yerr+']]\n",
    "#display(dfct)"
   ]
  },
  {
   "cell_type": "code",
   "execution_count": 10,
   "id": "95137b8b",
   "metadata": {},
   "outputs": [],
   "source": [
    "dfn = dfc.apply(pd.to_numeric, errors='coerce', axis=1)"
   ]
  },
  {
   "cell_type": "code",
   "execution_count": 11,
   "id": "ee0b0a8f",
   "metadata": {
    "scrolled": false
   },
   "outputs": [
    {
     "data": {
      "image/png": "[encoded data removed]",
      "text/plain": [
       "<Figure size 800x1200 with 12 Axes>"
      ]
     },
     "metadata": {},
     "output_type": "display_data"
    }
   ],
   "source": [
    "text=[r'0<$\\theta$<10 mrad', r'3<$\\theta$<10 mrad', r'10<$\\theta$<20 mrad', r'20<$\\theta$<40 mrad', r'40<$\\theta$<60 mrad', r'60<$\\theta$<100 mrad', r'100<$\\theta$<140 mrad', r'140<$\\theta$<180 mrad', r'180<$\\theta$<240 mrad', r'240<$\\theta$<300 mrad', r'300<$\\theta$<360 mrad', r'360<$\\theta$<420 mrad']\n",
    "\n",
    "fig, axs  = plt.subplots(6, 2, figsize=(8,12), sharex=True, sharey=True, dpi=100)\n",
    "fig.subplots_adjust(hspace=0.2, wspace=0.1)\n",
    "fig.supxlabel('p [GeV/c]')\n",
    "fig.supylabel(r'$\\frac{d^2n}{dpd\\theta} [rad.{(GeV/c)}^{-1}]$')\n",
    "\n",
    "b=1;j=0\n",
    "for i in dfc.index:\n",
    "        if (i<len(dfc.index)-1):\n",
    "            if (dfc.loc[i, 'theta [rad.]'] != dfc.loc[i+1, 'theta [rad.]']):\n",
    "                ax = plt.subplot(6,2,b)\n",
    "                plt.errorbar(dfct['xval'][j:i], dfct['yval'][j:i], yerr=[-dfn['sys. unc. -'][j:i], dfn['sys. unc. +'][j:i]], c='black', fmt='o', ms=3, ecolor='lightgrey', elinewidth=4)\n",
    "                plt.errorbar(dfct['xval'][j:i], dfct['yval'][j:i], yerr=[-dfn['stat. unc. -'][j:i], dfn['stat. unc. +'][j:i]], c='black', fmt='o', ms=3, ecolor='black')\n",
    "                plt.xscale('log', base=10)\n",
    "                #plt.xlim(1,50)\n",
    "                #plt.ylim(0,2)\n",
    "                #if (b<4):\n",
    "                    #plt.ylim(0,1)\n",
    "                if (b):\n",
    "                    ax.text(0.55, 0.85, text[b-1], transform=ax.transAxes, fontsize=10, va='bottom')\n",
    "                b=b+1;j=i+1\n",
    "        if (i==len(dfc.index)-1):\n",
    "            ax = plt.subplot(6,2,b)\n",
    "            plt.errorbar(dfct['xval'][j:i], dfct['yval'][j:i], yerr=[-dfn['sys. unc. -'][j:i], dfn['sys. unc. +'][j:i]], c='black', fmt='o', ms=3, ecolor='lightgrey', elinewidth=4)\n",
    "            plt.errorbar(dfct['xval'][j:i], dfct['yval'][j:i], yerr=[-dfn['stat. unc. -'][j:i], dfn['stat. unc. +'][j:i]], c='black', fmt='o', ms=3, ecolor='black')\n",
    "            plt.xscale('log', base=10)\n",
    "            #plt.xlim(1,50)\n",
    "            #plt.ylim(0,2)\n",
    "            ax.text(0.55, 0.85, text[b-1], transform=ax.transAxes, fontsize=10, va='bottom')"
   ]
  },
  {
   "cell_type": "code",
   "execution_count": 12,
   "id": "0e1105b1",
   "metadata": {},
   "outputs": [],
   "source": [
    "with open('NA61SHINE_2019_I1754136_'+files[c-1]+'.yoda', 'w') as f:\n",
    "    a=2\n",
    "    print('d0%i-x01-y01'%c, file=f)\n",
    "    for i in dfc.index:\n",
    "        print(dfct.loc[[i]].to_string(header=False, index=False), file=f)\n",
    "        if (i<len(dfc.index)-1):\n",
    "            if (dfc.loc[i, 'theta [rad.]'] != dfc.loc[i+1, 'theta [rad.]']):\n",
    "                print('d0%i-x01-y0%i'%(c,a), file=f)\n",
    "                a=a+1"
   ]
  },
  {
   "cell_type": "raw",
   "id": "79b5b27d",
   "metadata": {},
   "source": [
    "BEGIN YODA_SCATTER2D_V2 /REF/NA61SHINE_2019_I1754136/d01-x01-y01\n",
    "ErrorBreakdown: { ... }\n",
    "IsRef: 1\n",
    "Path: /REF/NA61SHINE_2019_I1754136/d01-x01-y01\n",
    "Title: ~\n",
    "Type: Scatter2D\n",
    "---\n",
    "# xval\t xerr-\t xerr+\t yval\t yerr-\t yerr+\n",
    "\n",
    "...\n",
    "\n",
    "END YODA_SCATTER2D_V2"
   ]
  },
  {
   "cell_type": "markdown",
   "id": "a96e18e9",
   "metadata": {},
   "source": [
    "## Test with .json\n",
    "\n",
    "https://pandas.pydata.org/docs/reference/api/pandas.read_json.html"
   ]
  },
  {
   "cell_type": "raw",
   "id": "24a94e96",
   "metadata": {
    "scrolled": true
   },
   "source": [
    "# dfj = pd.read_json('NA61SHINE_2019_I1754136.json', orient='values')"
   ]
  },
  {
   "cell_type": "markdown",
   "id": "01937022",
   "metadata": {},
   "source": [
    "## Test with .yoda"
   ]
  },
  {
   "cell_type": "markdown",
   "id": "71e82b19",
   "metadata": {},
   "source": [
    "Extract a dataframe (from 1 to 12) depending on the theta binning from 0 to 420 mrad, organize each dataframe in ascending 3-momentum binning from 0 to 50 GeV/c, all that keeping previous index information which will be used for the ErrorBreakdown filtering and re-organization."
   ]
  },
  {
   "cell_type": "raw",
   "id": "345c1a52",
   "metadata": {
    "scrolled": true
   },
   "source": [
    "col = []\n",
    "for i in range (10):\n",
    "    col.append('c%i' %(i))\n",
    "\n",
    "df = pd.read_csv('NA61SHINE_2019_I1754136_HepData_Table.yoda', delim_whitespace=True, names=col)    \n",
    "df.columns = ['1', 'x', 'xerrm', 'xerrp', 'y', 'yerrm', 'yerrp', 'z', 'zerrm', 'zerrp']\n",
    "df = df.drop(['1'], axis=1)\n",
    "dfn = df.apply(pd.to_numeric, errors='coerce', axis=1)\n",
    "#display(dfn)\n",
    "\n",
    "dfi = []\n",
    "for i in range (1,13):\n",
    "    dfi.append('df%i' %(i))    \n",
    "yvalue = [5.000000e-03, 6.500000e-03, 1.500000e-02, 3.000000e-02, 5.000000e-02, 8.000000e-02, 1.200000e-01, 1.600000e-01, 2.100000e-01, 2.700000e-01, 3.300000e-01, 3.900000e-01]\n",
    "    \n",
    "for i in range (12):\n",
    "    dfi[i] = pd.DataFrame(columns = ['x', 'xerrm', 'xerrp', 'y', 'yerrm', 'yerrp', 'z', 'zerrm', 'zerrp'])\n",
    "    dfi[i] = pd.concat([dfi[i], dfn[dfn['y'] == yvalue[i]]])\n",
    "    dfi[i] = dfi[i].sort_values('x')\n",
    "\n",
    "#display(dfi)"
   ]
  },
  {
   "cell_type": "code",
   "execution_count": null,
   "id": "ed9a9e70",
   "metadata": {},
   "outputs": [],
   "source": []
  }
 ],
 "metadata": {
  "kernelspec": {
   "display_name": "Python 3 (ipykernel)",
   "language": "python",
   "name": "python3"
  },
  "language_info": {
   "codemirror_mode": {
    "name": "ipython",
    "version": 3
   },
   "file_extension": ".py",
   "mimetype": "text/x-python",
   "name": "python",
   "nbconvert_exporter": "python",
   "pygments_lexer": "ipython3",
   "version": "3.10.12"
  }
 },
 "nbformat": 4,
 "nbformat_minor": 5
}
